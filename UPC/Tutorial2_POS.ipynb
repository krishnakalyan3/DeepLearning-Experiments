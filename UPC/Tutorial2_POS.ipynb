{
 "cells": [
  {
   "cell_type": "code",
   "execution_count": 3,
   "metadata": {
    "collapsed": false
   },
   "outputs": [
    {
     "name": "stderr",
     "output_type": "stream",
     "text": [
      "Using TensorFlow backend.\n"
     ]
    }
   ],
   "source": [
    "import numpy as np\n",
    "import utils\n",
    "from spanishGenWin import spanishGenWin as swg #Script for creating Gender Windows\n",
    "from spanishNumWin import spanishNumWin as swn #Script for creating Number Windows \n",
    "from keras.models import Sequential\n",
    "from keras.layers import Dense, Embedding, Flatten"
   ]
  },
  {
   "cell_type": "code",
   "execution_count": 4,
   "metadata": {
    "collapsed": false
   },
   "outputs": [
    {
     "name": "stdout",
     "output_type": "stream",
     "text": [
      "Processing corpus\n"
     ]
    },
    {
     "ename": "AttributeError",
     "evalue": "'module' object has no attribute 'getVocabulary'",
     "output_type": "error",
     "traceback": [
      "\u001b[0;31m---------------------------------------------------------------------------\u001b[0m",
      "\u001b[0;31mAttributeError\u001b[0m                            Traceback (most recent call last)",
      "\u001b[0;32m<ipython-input-4-fff52c94a1bd>\u001b[0m in \u001b[0;36m<module>\u001b[0;34m()\u001b[0m\n\u001b[1;32m     24\u001b[0m \u001b[0mtestWindows\u001b[0m\u001b[0;34m,\u001b[0m \u001b[0mtestTargets\u001b[0m  \u001b[0;34m=\u001b[0m \u001b[0mtest\u001b[0m\u001b[0;34m.\u001b[0m\u001b[0mprocess\u001b[0m\u001b[0;34m(\u001b[0m\u001b[0;34m)\u001b[0m\u001b[0;34m\u001b[0m\u001b[0m\n\u001b[1;32m     25\u001b[0m \u001b[0;34m\u001b[0m\u001b[0m\n\u001b[0;32m---> 26\u001b[0;31m \u001b[0mvocabulary\u001b[0m \u001b[0;34m=\u001b[0m \u001b[0mutils\u001b[0m\u001b[0;34m.\u001b[0m\u001b[0mgetVocabulary\u001b[0m\u001b[0;34m(\u001b[0m\u001b[0mtrainWindows\u001b[0m\u001b[0;34m,\u001b[0m\u001b[0mwinSize\u001b[0m\u001b[0;34m,\u001b[0m\u001b[0mvocabSize\u001b[0m\u001b[0;34m)\u001b[0m\u001b[0;34m\u001b[0m\u001b[0m\n\u001b[0m\u001b[1;32m     27\u001b[0m \u001b[0;34m\u001b[0m\u001b[0m\n\u001b[1;32m     28\u001b[0m \u001b[0mtrainFeatures\u001b[0m \u001b[0;34m=\u001b[0m \u001b[0mutils\u001b[0m\u001b[0;34m.\u001b[0m\u001b[0mvectorizeWindows\u001b[0m\u001b[0;34m(\u001b[0m\u001b[0mtrainWindows\u001b[0m\u001b[0;34m,\u001b[0m\u001b[0mvocabulary\u001b[0m\u001b[0;34m)\u001b[0m\u001b[0;34m\u001b[0m\u001b[0m\n",
      "\u001b[0;31mAttributeError\u001b[0m: 'module' object has no attribute 'getVocabulary'"
     ]
    }
   ],
   "source": [
    "PATH = 'corpus/' \n",
    "\n",
    "#Size of the vocabulary to use\n",
    "vocabSize = 5000\n",
    "\n",
    "#Windows size\n",
    "winSize = 5\n",
    "\n",
    "VSIZE = 100\n",
    "nb_epoch = 4\n",
    "batch_size = 128\n",
    "\n",
    "print \"Processing corpus\" \n",
    "\n",
    "#Change the function accordingly to the task (swg, swg)\n",
    "training = swn(PATH + 'train/train.gennum.es', \\\n",
    "    PATH + 'train/train.es', \\\n",
    "    vocabSize,winSize)\n",
    "\n",
    "dev = swn(PATH + 'dev/dev.gennum.es', \\\n",
    "    PATH + 'dev/dev.es', \\\n",
    "\tvocabSize,winSize)\n",
    "\n",
    "test = swn(PATH + 'test/test.gennum.es', \\\n",
    "    PATH + 'test/test.es', \\\n",
    "\tvocabSize,winSize)\n",
    "\n",
    "trainWindows, trainTargets = training.process()\n",
    "devWindows, devTargets  = dev.process()\n",
    "testWindows, testTargets  = test.process()\n",
    "\n",
    "vocabulary = utils.getVocabulary(trainWindows,winSize,vocabSize)\n",
    "\n",
    "trainFeatures = utils.vectorizeWindows(trainWindows,vocabulary)\n",
    "devFeatures = utils.vectorizeWindows(devWindows,vocabulary)\n",
    "testFeatures = utils.vectorizeWindows(testWindows,vocabulary)\n",
    "\n",
    "trainTargets = np.asarray(trainTargets)\n",
    "devTargets = np.asarray(devTargets)\n",
    "testTargets = np.asarray(testTargets)\n",
    "\n",
    "print \"Finished processing\""
   ]
  }
 ],
 "metadata": {
  "kernelspec": {
   "display_name": "Python 2",
   "language": "python",
   "name": "python2"
  },
  "language_info": {
   "codemirror_mode": {
    "name": "ipython",
    "version": 2
   },
   "file_extension": ".py",
   "mimetype": "text/x-python",
   "name": "python",
   "nbconvert_exporter": "python",
   "pygments_lexer": "ipython2",
   "version": "2.7.9"
  }
 },
 "nbformat": 4,
 "nbformat_minor": 0
}
